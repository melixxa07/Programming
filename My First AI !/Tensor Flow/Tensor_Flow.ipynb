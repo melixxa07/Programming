{
 "cells": [
  {
   "cell_type": "markdown",
   "metadata": {},
   "source": [
    " <font face = 'Times New Roman'> <font color = 'PeachPuff'>\n",
    " # --- _**Fashion Dataset**_ ---"
   ]
  },
  {
   "cell_type": "code",
   "execution_count": 22,
   "metadata": {},
   "outputs": [],
   "source": [
    "# libraries.\n",
    "import tensorflow as tf\n",
    "import numpy as np\n",
    "from tensorflow import keras   # Keras is a library that allows to build neural nets\n",
    "import matplotlib.pyplot as plt   # To display images"
   ]
  },
  {
   "cell_type": "markdown",
   "metadata": {},
   "source": [
    " <font face = 'Times New Roman'> <font color = 'PeachPuff'>\n",
    "Keras Fashion Documentation:\n",
    "\n",
    "<img src='Keras _Fashion _Documentation_Table.png'  width = '500'>\n",
    "\n",
    "        https://keras.io/api/datasets/fashion_mnist/"
   ]
  },
  {
   "cell_type": "markdown",
   "metadata": {},
   "source": [
    " <font face = 'Times New Roman'> <font color = 'PeachPuff'> \n",
    "### **Tensor Flow Coding**"
   ]
  },
  {
   "cell_type": "code",
   "execution_count": 20,
   "metadata": {},
   "outputs": [],
   "source": [
    "# 1. IMPORT DATA : Load a pre-defined (fashion) MNIST dataset (70000 of 28x28).\n",
    "fashion_mnist = keras.datasets.fashion_mnist   # We call keras documentation."
   ]
  },
  {
   "cell_type": "code",
   "execution_count": 21,
   "metadata": {},
   "outputs": [],
   "source": [
    "# 2. Pull out data from the Dataset:\n",
    "(train_images, train_labels), (test_images, test_labels) = fashion_mnist.load_data()\n",
    "# Returns: 60000 of the images for training and 10000 of the images for testing.\n",
    "\n",
    "# x_train or train_images: uint8 NumPy array of grayscale image data with shapes (60000, 28, 28), containing the training data.\n",
    "# y_train or train:labels: uint8 NumPy array of labels (integers in range 0-9) with shape (60000,) for the training data.\n",
    "# x_test or test_images: uint8 NumPy array of grayscale image data with shapes (10000, 28, 28), containing the test data.\n",
    "# y_test or test_labels: uint8 NumPy array of labels (integers in range 0-9) with shape (10000,) for the test data."
   ]
  },
  {
   "cell_type": "code",
   "execution_count": 41,
   "metadata": {},
   "outputs": [
    {
     "name": "stdout",
     "output_type": "stream",
     "text": [
      "Train Label = 9\n"
     ]
    },
    {
     "data": {
      "image/png": "[encoded data removed]",
      "text/plain": [
       "<Figure size 432x288 with 1 Axes>"
      ]
     },
     "metadata": {
      "needs_background": "light"
     },
     "output_type": "display_data"
    }
   ],
   "source": [
    "# 3. Show Data:\n",
    "print('Train Label =', train_labels[0])   # Display the first image from de dataset / element from the training images.\n",
    "#print(train_images[0])\n",
    "plt.imshow(train_images[0], cmap = 'gray', vmin = 0, vmax = 255)\n",
    "plt.show()"
   ]
  },
  {
   "cell_type": "markdown",
   "metadata": {},
   "source": [
    " <font face = 'Times New Roman'> <font color = 'PeachPuff'> \n",
    "- Designing Our Neural Net:"
   ]
  },
  {
   "cell_type": "code",
   "execution_count": 39,
   "metadata": {},
   "outputs": [],
   "source": [
    "# 4. Create a Neural Net for it \n",
    "\n",
    "    # 4.1 Define our neural net structure \n",
    "model = keras.Sequential([\n",
    "    \n",
    "    # The input is a 28x28 image, therefore, we \"flatten\" the 28x28 image into a single layer == it means a 784x1 input layer:\n",
    "    keras.layers.Flatten(input_shape = (28,28)),  # We do this to simplify the structure of the neural net\n",
    "    \n",
    "    # The hidden layer is 128 deep.\n",
    "    keras.layers.Dense(units = 128, activation = tf.nn.relu),  # Relu returns the value, or 0 (works good enough. Much faster)\n",
    "    \n",
    "    # The output is a series of numbers from 0 to 9 which are the probabilities (depending on what piece of clothing it is)\n",
    "    # And this returns the maximun (number) probability.   [From the documentation]\n",
    "    keras.layers.Dense(units = 10, activation = tf.nn.softmax)  # Dense means that every note is conected to any other note in each column (neural net)\n",
    "    \n",
    "    ])    # Sequential means vertical column layers\n",
    "\n",
    "\n",
    " # We have to make sure the first layer y compatible with the input  -  (28,28) image\n",
    "\n",
    "## Notes:\n",
    "# - Remember: Matrix = (rows x columns)   =>   We are working with a multidimesional array\n",
    "# - There are numbers from 0-255 (0 is the first number) because 2^8 = 256 what means a bit   ==  Bit image in black and white \n",
    "# - In a neural net we have an input or first layer (the images or data), a hidden layer (trained data or deep learning) and an output layer (the probabilities)\n",
    "# - Why do we need multiple hidden layer in neural network?\n",
    "    # R/= Basically, by adding more hidden layers / more neurons per layer you add more parameters to the model. Hence you allow the model to fit more complex functions\n",
    "    # R/= These layers are the key component that enables a neural network to learn complex tasks and achieve excellent performance.\n",
    "    # Big number of Hidden Layers == Deep Learning"
   ]
  },
  {
   "cell_type": "markdown",
   "metadata": {},
   "source": [
    "<img src='Dense_neural_network.png'  width = '500'> \n",
    "\n",
    "                    Dense Neural Network"
   ]
  }
 ],
 "metadata": {
  "interpreter": {
   "hash": "9d666d82339d4ec6598db6520b8ef6e55f52b78af793bca546f20d1c79188d15"
  },
  "kernelspec": {
   "display_name": "Python 3.8.8 ('tensorflow')",
   "language": "python",
   "name": "python3"
  },
  "language_info": {
   "codemirror_mode": {
    "name": "ipython",
    "version": 3
   },
   "file_extension": ".py",
   "mimetype": "text/x-python",
   "name": "python",
   "nbconvert_exporter": "python",
   "pygments_lexer": "ipython3",
   "version": "3.8.8"
  },
  "orig_nbformat": 4
 },
 "nbformat": 4,
 "nbformat_minor": 2
}
