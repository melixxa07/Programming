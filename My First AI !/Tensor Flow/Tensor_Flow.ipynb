{
 "cells": [
  {
   "cell_type": "markdown",
   "metadata": {},
   "source": [
    " <font face = 'Times New Roman'> <font color = 'PeachPuff'>\n",
    " # --- _**Fashion Dataset**_ ---"
   ]
  },
  {
   "cell_type": "code",
   "execution_count": 1,
   "metadata": {},
   "outputs": [],
   "source": [
    "# libraries.\n",
    "import tensorflow as tf\n",
    "import numpy as np\n",
    "from tensorflow import keras   # Keras is a library that allows to build neural nets\n",
    "import matplotlib.pyplot as plt   # To display images"
   ]
  },
  {
   "cell_type": "markdown",
   "metadata": {},
   "source": [
    " <font face = 'Times New Roman'> <font color = 'PeachPuff'>\n",
    "Keras Fashion Documentation:\n",
    "\n",
    "<img src='Keras _Fashion _Documentation_Table.png'  width = '500'>\n",
    "\n",
    "        https://keras.io/api/datasets/fashion_mnist/"
   ]
  },
  {
   "cell_type": "markdown",
   "metadata": {},
   "source": [
    " <font face = 'Times New Roman'> <font color = 'PeachPuff'> \n",
    "### **Tensor Flow Coding**"
   ]
  },
  {
   "cell_type": "markdown",
   "metadata": {},
   "source": [
    " <font face = 'Times New Roman'> <font color = 'PeachPuff'> The dataset has 70k data (images of different type of clothing) and we are going to use  60k for training and 10k for testing."
   ]
  },
  {
   "cell_type": "markdown",
   "metadata": {},
   "source": [
    " <font face = 'Times New Roman'><font color = 'PeachPuff'> **1)  Import data :**\n",
    " \n",
    "  Load a pre-defined (fashion) MNIST dataset (70000 of 28x28)."
   ]
  },
  {
   "cell_type": "code",
   "execution_count": 2,
   "metadata": {},
   "outputs": [],
   "source": [
    "# 1. IMPORT DATA : Load a pre-defined (fashion) MNIST dataset (70000 of 28x28).\n",
    "fashion_mnist = keras.datasets.fashion_mnist   # We call keras documentation.\n",
    "# This is data that is already labeled."
   ]
  },
  {
   "cell_type": "markdown",
   "metadata": {},
   "source": [
    " <font face = 'Times New Roman'><font color = 'PeachPuff'> **2) Pull out data from the Dataset:**"
   ]
  },
  {
   "cell_type": "code",
   "execution_count": 3,
   "metadata": {},
   "outputs": [],
   "source": [
    "# 2. Pull out data from the Dataset:\n",
    "(train_images, train_labels), (test_images, test_labels) = fashion_mnist.load_data()\n",
    "# Returns: 60000 of the images for training and 10000 of the images for testing.\n",
    "\n",
    "# x_train or train_images: uint8 NumPy array of grayscale image data with shapes (60000, 28, 28), containing the training data.\n",
    "# y_train or train_labels: uint8 NumPy array of labels (integers in range 0-9) with shape (60000,) for the training data.\n",
    "# x_test or test_images: uint8 NumPy array of grayscale image data with shapes (10000, 28, 28), containing the test data.\n",
    "# y_test or test_labels: uint8 NumPy array of labels (integers in range 0-9) with shape (10000,) for the test data."
   ]
  },
  {
   "cell_type": "markdown",
   "metadata": {},
   "source": [
    " <font face = 'Times New Roman'><font color = 'PeachPuff'> **3) Show Data:**"
   ]
  },
  {
   "cell_type": "code",
   "execution_count": 9,
   "metadata": {},
   "outputs": [
    {
     "name": "stdout",
     "output_type": "stream",
     "text": [
      "Train Label = 9\n"
     ]
    },
    {
     "data": {
      "image/png": "[encoded data removed]",
      "text/plain": [
       "<Figure size 432x288 with 1 Axes>"
      ]
     },
     "metadata": {
      "needs_background": "light"
     },
     "output_type": "display_data"
    }
   ],
   "source": [
    "# 3. Show Data:\n",
    "print('Train Label =', train_labels[0])   # Display the first image from de dataset / element from the training images.\n",
    "#print(train_images[0])\n",
    "plt.imshow(train_images[0], cmap = 'gray', vmin = 0, vmax = 255)\n",
    "plt.show()"
   ]
  },
  {
   "cell_type": "markdown",
   "metadata": {},
   "source": [
    " <font face = 'Times New Roman'> <font color = 'PeachPuff'> \n",
    "**4) Designing Our Neural Net:**"
   ]
  },
  {
   "cell_type": "code",
   "execution_count": 5,
   "metadata": {},
   "outputs": [],
   "source": [
    "# 4. Create a Neural Net for it \n",
    "\n",
    "    # 4.1 Define our neural net structure \n",
    "model = keras.Sequential([\n",
    "    \n",
    "    # The input is a 28x28 image, therefore, we \"flatten\" the 28x28 image into a single layer == it means a 784x1 input layer:\n",
    "    keras.layers.Flatten(input_shape = (28,28)),  # We do this to simplify the structure of the neural net\n",
    "    # THIS IS JUST AN IMAGE (THE INPUT)\n",
    "    \n",
    "    # The hidden layer is 128 deep.\n",
    "    keras.layers.Dense(units = 128, activation = tf.nn.relu),  # Relu returns the value, or 0 (works good enough. This makes neural nets so much faster and still get pretty good accuracy)\n",
    "    # THIS CAPTURES THE PATTERN OF WHAT A SHOE IS (for example)\n",
    "    # THIS IS FILTERED BY ALL THE HIDDEN LAYERS\n",
    "    # The 'relu' gets rid of the negative numbers (turning them into zero) and leaving the positive ones\n",
    "    # For more hidden layers (if you want to add more than one), it is needed to duplicate or put more of this hidden layer line code and the number of nodes can vary\n",
    "    \n",
    "    # The output is a series of numbers from 0 to 9 which are the probabilities (depending on what piece of clothing it is)\n",
    "    # And this returns the maximun (number) probability.   [From the documentation]\n",
    "    keras.layers.Dense(units = 10, activation = tf.nn.softmax)  # Dense means that every note is conected to any other note in each column (neural net)\n",
    "    # THIS HAS THE 10 LABELS AND IS GOING TO TELL HOW MUCH THE NEURAL NETWORK BELIEVES IS GOING TO BE A SHOE, A T-SHIRT, OR SOMETHING ELSE\n",
    "    # units are the elements/nodes/neurons of the layer\n",
    "    # The 'sofmax' picks the greatest number out of everything (the higest probalility) => Convert the maximum value to 1 and the rest to 0.\n",
    "    \n",
    "    \n",
    "    ])    # Sequential means vertical column layers\n",
    "\n",
    " # The activation function is a filter mecanism of each layer that filter all the data\n",
    "\n",
    " # We have to make sure the first layer y compatible with the input  -  (28,28) image\n",
    "\n",
    "## Notes:\n",
    "# - Remember: Matrix = (rows x columns)   =>   We are working with a multidimesional array\n",
    "# - There are numbers from 0-255 (0 is the first number) because 2^8 = 256 what means a bit   ==  Bit image in black and white \n",
    "# - In a neural net we have an input or first layer (the images or data), a hidden layer (trained data or deep learning) and an output layer (the probabilities)\n",
    "# - Why do we need multiple hidden layer in neural network?\n",
    "    # R/= Basically, by adding more hidden layers / more neurons per layer you add more parameters to the model. Hence you allow the model to fit more complex functions\n",
    "    # R/= These layers are the key component that enables a neural network to learn complex tasks and achieve excellent performance.\n",
    "    # Big number of Hidden Layers == Deep Learning"
   ]
  },
  {
   "cell_type": "markdown",
   "metadata": {},
   "source": [
    "<img src='Dense_neural_network.png'  width = '500'> \n",
    "\n",
    "                    Dense Neural Network"
   ]
  },
  {
   "cell_type": "markdown",
   "metadata": {},
   "source": [
    "<img src='Neural_Network _Design.png'  width = '500'> \n",
    "\n",
    "                    Our Neural Network Design"
   ]
  },
  {
   "cell_type": "markdown",
   "metadata": {},
   "source": [
    " <font face = 'Times New Roman'> <font color = 'PeachPuff'>  Each node/neuron is a pixel (in the input layer) and each line represents a weight, and according to it, it goes for each relation in the hidden layer. According to the patterns this represents a function and eventuallly split out the correct numbers (output layer)."
   ]
  },
  {
   "cell_type": "markdown",
   "metadata": {},
   "source": [
    " <font face = 'Times New Roman'> <font color = 'PeachPuff'> \n",
    "**5) Prepatation of the Neural Network to be Trained:**"
   ]
  },
  {
   "cell_type": "code",
   "execution_count": 43,
   "metadata": {},
   "outputs": [],
   "source": [
    "# Compile our model => After creating a model, you need to compile it\n",
    "model.compile(optimizer=tf.optimizers.Adam(), loss='sparse_categorical_crossentropy', metrics=['accuracy'])\n",
    "# The 'loss' function will tell us how correct or how incorrect we are\n",
    "# The 'optimizer' function makes the changes to the weights so it can be more accurate (to the clothes)\n",
    "# The 'accuracy' function will tell us the accuracy of the model\n",
    "# This functions are really good at images, but there are more functions (Adam and sparse_categorical_crossentropy)"
   ]
  },
  {
   "cell_type": "markdown",
   "metadata": {},
   "source": [
    " <font face = 'Times New Roman'> <font color = 'PeachPuff'> \n",
    "**6) Training Our Model:**\n",
    "\n",
    "\n",
    "Let's use our training data (60k data). We use the `fit` function."
   ]
  },
  {
   "cell_type": "code",
   "execution_count": 46,
   "metadata": {},
   "outputs": [
    {
     "name": "stdout",
     "output_type": "stream",
     "text": [
      "Epoch 1/5\n",
      "1875/1875 [==============================] - 2s 1ms/step - loss: 0.4634 - accuracy: 0.8394\n",
      "Epoch 2/5\n",
      "1875/1875 [==============================] - 2s 1ms/step - loss: 0.4651 - accuracy: 0.8387\n",
      "Epoch 3/5\n",
      "1875/1875 [==============================] - 2s 1ms/step - loss: 0.4592 - accuracy: 0.8426\n",
      "Epoch 4/5\n",
      "1875/1875 [==============================] - 3s 1ms/step - loss: 0.4610 - accuracy: 0.8393\n",
      "Epoch 5/5\n",
      "1875/1875 [==============================] - 2s 1ms/step - loss: 0.4561 - accuracy: 0.8436\n"
     ]
    },
    {
     "data": {
      "text/plain": [
       "<keras.callbacks.History at 0x1e455b07af0>"
      ]
     },
     "execution_count": 46,
     "metadata": {},
     "output_type": "execute_result"
    }
   ],
   "source": [
    "model.fit(train_images, train_labels, epochs=5)\n",
    "# epochs=5 means that we are adjusting all the neural network weights five times\n",
    "# 5 is really good in this case because the images are small\n",
    "\n"
   ]
  },
  {
   "cell_type": "markdown",
   "metadata": {},
   "source": [
    " <font face = 'Times New Roman'> <font color = 'PeachPuff'> \n",
    "**7) Testing Our Model:**"
   ]
  },
  {
   "cell_type": "code",
   "execution_count": 49,
   "metadata": {},
   "outputs": [
    {
     "name": "stdout",
     "output_type": "stream",
     "text": [
      "313/313 [==============================] - 0s 1ms/step - loss: 0.6273 - accuracy: 0.8274\n"
     ]
    }
   ],
   "source": [
    "test_loss = model.evaluate(test_images, test_labels)"
   ]
  },
  {
   "cell_type": "markdown",
   "metadata": {},
   "source": [
    " <font face = 'Times New Roman'> <font color = 'PeachPuff'> \n",
    "**8) Make Predictions:**"
   ]
  },
  {
   "cell_type": "code",
   "execution_count": 19,
   "metadata": {},
   "outputs": [],
   "source": [
    "predictions = model.predict(test_images)\n",
    "# We take the 10k test images and we use our model to predict each of this images and we compare them with the true labels"
   ]
  },
  {
   "cell_type": "markdown",
   "metadata": {},
   "source": [
    " <font face = 'Times New Roman'> <font color = 'PeachPuff'> \n",
    "Let's see the test dataset:"
   ]
  },
  {
   "cell_type": "code",
   "execution_count": 42,
   "metadata": {},
   "outputs": [
    {
     "name": "stdout",
     "output_type": "stream",
     "text": [
      "True Label = 9\n"
     ]
    },
    {
     "data": {
      "image/png": "[encoded data removed]",
      "text/plain": [
       "<Figure size 432x288 with 1 Axes>"
      ]
     },
     "metadata": {
      "needs_background": "light"
     },
     "output_type": "display_data"
    }
   ],
   "source": [
    "print('True Label =', test_labels[0])   # Display the first image from de dataset / element from the testing images.\n",
    "plt.imshow(test_images[0], cmap = 'gray', vmin = 0, vmax = 255)\n",
    "plt.show()"
   ]
  },
  {
   "cell_type": "markdown",
   "metadata": {},
   "source": [
    " <font face = 'Times New Roman'> <font color = 'PeachPuff'> \n",
    "Let's see what we predict:"
   ]
  },
  {
   "cell_type": "code",
   "execution_count": 21,
   "metadata": {},
   "outputs": [
    {
     "data": {
      "text/plain": [
       "array([2.0967333e-26, 5.8229524e-19, 0.0000000e+00, 8.7033426e-22,\n",
       "       0.0000000e+00, 3.9580125e-02, 0.0000000e+00, 3.4456220e-02,\n",
       "       9.3101785e-16, 9.2596358e-01], dtype=float32)"
      ]
     },
     "execution_count": 21,
     "metadata": {},
     "output_type": "execute_result"
    }
   ],
   "source": [
    "predictions[0]"
   ]
  },
  {
   "cell_type": "markdown",
   "metadata": {},
   "source": [
    " <font face = 'Times New Roman'> <font color = 'PeachPuff'> \n",
    "This is the probablilty of every possibe output or label, and as we can see, the prediction says that the element [0] is more likely to be a shoe since [9] (label in the array) it is the greatest number."
   ]
  },
  {
   "cell_type": "code",
   "execution_count": 41,
   "metadata": {},
   "outputs": [
    {
     "name": "stdout",
     "output_type": "stream",
     "text": [
      "The prediction says the lable is:  9\n"
     ]
    }
   ],
   "source": [
    "# Let's make it look good:\n",
    "print('The prediction says the lable is: ', list(predictions[0]).index(max(predictions[0])))\n",
    "\n",
    "# This prints the label that corresponds to that cloth type == The [9] element of the array"
   ]
  },
  {
   "cell_type": "markdown",
   "metadata": {},
   "source": [
    " <font face = 'Times New Roman'> <font color = 'PeachPuff'> \n",
    "Let's try it for another clothes:"
   ]
  },
  {
   "cell_type": "code",
   "execution_count": 37,
   "metadata": {},
   "outputs": [
    {
     "name": "stdout",
     "output_type": "stream",
     "text": [
      "True Label = 2\n"
     ]
    },
    {
     "data": {
      "image/png": "[encoded data removed]",
      "text/plain": [
       "<Figure size 432x288 with 1 Axes>"
      ]
     },
     "metadata": {
      "needs_background": "light"
     },
     "output_type": "display_data"
    }
   ],
   "source": [
    "print('True Label =', test_labels[1])   # Display the first image from de dataset / element from the testing images.\n",
    "plt.imshow(test_images[1], cmap = 'gray', vmin = 0, vmax = 255)\n",
    "plt.show()"
   ]
  },
  {
   "cell_type": "code",
   "execution_count": 38,
   "metadata": {},
   "outputs": [
    {
     "data": {
      "text/plain": [
       "array([1.77488560e-04, 9.41856282e-09, 9.78584111e-01, 5.78805157e-05,\n",
       "       4.49381908e-03, 5.61307270e-36, 1.66866947e-02, 0.00000000e+00,\n",
       "       1.10516554e-10, 0.00000000e+00], dtype=float32)"
      ]
     },
     "execution_count": 38,
     "metadata": {},
     "output_type": "execute_result"
    }
   ],
   "source": [
    "predictions[1]"
   ]
  },
  {
   "cell_type": "code",
   "execution_count": 40,
   "metadata": {},
   "outputs": [
    {
     "name": "stdout",
     "output_type": "stream",
     "text": [
      "The prediction says the lable is:  2\n"
     ]
    }
   ],
   "source": [
    "print('The prediction says the lable is: ', list(predictions[1]).index(max(predictions[1])))"
   ]
  },
  {
   "cell_type": "code",
   "execution_count": 2,
   "metadata": {},
   "outputs": [
    {
     "name": "stdout",
     "output_type": "stream",
     "text": [
      "Keep Programming\n"
     ]
    }
   ],
   "source": [
    "print('Keep Programming')"
   ]
  }
 ],
 "metadata": {
  "interpreter": {
   "hash": "9d666d82339d4ec6598db6520b8ef6e55f52b78af793bca546f20d1c79188d15"
  },
  "kernelspec": {
   "display_name": "Python 3.8.8 ('tensorflow')",
   "language": "python",
   "name": "python3"
  },
  "language_info": {
   "codemirror_mode": {
    "name": "ipython",
    "version": 3
   },
   "file_extension": ".py",
   "mimetype": "text/x-python",
   "name": "python",
   "nbconvert_exporter": "python",
   "pygments_lexer": "ipython3",
   "version": "3.8.8"
  },
  "orig_nbformat": 4
 },
 "nbformat": 4,
 "nbformat_minor": 2
}
