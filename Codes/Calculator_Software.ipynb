{
 "cells": [
  {
   "cell_type": "markdown",
   "metadata": {},
   "source": [
    "# <font color ='Peachpuff'> <font face ='Century'> **Calculation Software**"
   ]
  },
  {
   "cell_type": "markdown",
   "metadata": {},
   "source": [
    "### <font color ='Peachpuff'> <font face ='Century'> User Data:"
   ]
  },
  {
   "cell_type": "code",
   "execution_count": 1,
   "metadata": {},
   "outputs": [],
   "source": [
    "import pandas as pd\n",
    "import numpy as np\n",
    "import sympy as sp \n",
    "import math\n",
    "import matplotlib.pyplot as plt"
   ]
  },
  {
   "cell_type": "code",
   "execution_count": 252,
   "metadata": {},
   "outputs": [],
   "source": [
    "df = pd.read_csv('https://docs.google.com/spreadsheets/d/e/2PACX-1vQ6djMLw_jWx6UKf8lMlkLOpvf1UFSNx9IcNcuU7AFJ9CT56yUQ9q0077nDEZwa5vByYMbcZSL9O1zH/pub?gid=0&single=true&output=csv')"
   ]
  },
  {
   "cell_type": "code",
   "execution_count": 253,
   "metadata": {},
   "outputs": [
    {
     "data": {
      "text/html": [
       "<div>\n",
       "<style scoped>\n",
       "    .dataframe tbody tr th:only-of-type {\n",
       "        vertical-align: middle;\n",
       "    }\n",
       "\n",
       "    .dataframe tbody tr th {\n",
       "        vertical-align: top;\n",
       "    }\n",
       "\n",
       "    .dataframe thead th {\n",
       "        text-align: right;\n",
       "    }\n",
       "</style>\n",
       "<table border=\"1\" class=\"dataframe\">\n",
       "  <thead>\n",
       "    <tr style=\"text-align: right;\">\n",
       "      <th></th>\n",
       "      <th>Username</th>\n",
       "      <th>Password</th>\n",
       "      <th>Email</th>\n",
       "      <th>City</th>\n",
       "    </tr>\n",
       "  </thead>\n",
       "  <tbody>\n",
       "    <tr>\n",
       "      <th>0</th>\n",
       "      <td>user1</td>\n",
       "      <td>646718</td>\n",
       "      <td>user1@example.com</td>\n",
       "      <td>CiudadA</td>\n",
       "    </tr>\n",
       "    <tr>\n",
       "      <th>1</th>\n",
       "      <td>user2</td>\n",
       "      <td>982432</td>\n",
       "      <td>user2@example.com</td>\n",
       "      <td>CiudadB</td>\n",
       "    </tr>\n",
       "    <tr>\n",
       "      <th>2</th>\n",
       "      <td>user3</td>\n",
       "      <td>954877</td>\n",
       "      <td>user3@example.com</td>\n",
       "      <td>CiudadC</td>\n",
       "    </tr>\n",
       "    <tr>\n",
       "      <th>3</th>\n",
       "      <td>user4</td>\n",
       "      <td>404277</td>\n",
       "      <td>user4@example.com</td>\n",
       "      <td>CiudadA</td>\n",
       "    </tr>\n",
       "    <tr>\n",
       "      <th>4</th>\n",
       "      <td>user5</td>\n",
       "      <td>215794</td>\n",
       "      <td>user5@example.com</td>\n",
       "      <td>CiudadD</td>\n",
       "    </tr>\n",
       "  </tbody>\n",
       "</table>\n",
       "</div>"
      ],
      "text/plain": [
       "  Username  Password              Email     City\n",
       "0    user1    646718  user1@example.com  CiudadA\n",
       "1    user2    982432  user2@example.com  CiudadB\n",
       "2    user3    954877  user3@example.com  CiudadC\n",
       "3    user4    404277  user4@example.com  CiudadA\n",
       "4    user5    215794  user5@example.com  CiudadD"
      ]
     },
     "execution_count": 253,
     "metadata": {},
     "output_type": "execute_result"
    }
   ],
   "source": [
    "df.head()"
   ]
  },
  {
   "cell_type": "code",
   "execution_count": 254,
   "metadata": {},
   "outputs": [
    {
     "data": {
      "text/plain": [
       "(110, 4)"
      ]
     },
     "execution_count": 254,
     "metadata": {},
     "output_type": "execute_result"
    }
   ],
   "source": [
    "df.shape"
   ]
  },
  {
   "cell_type": "code",
   "execution_count": 255,
   "metadata": {},
   "outputs": [
    {
     "data": {
      "text/plain": [
       "110"
      ]
     },
     "execution_count": 255,
     "metadata": {},
     "output_type": "execute_result"
    }
   ],
   "source": [
    "len(df)"
   ]
  },
  {
   "cell_type": "markdown",
   "metadata": {},
   "source": [
    "### <font color ='Peachpuff'> <font face ='Century'> User Interface:"
   ]
  },
  {
   "cell_type": "code",
   "execution_count": 256,
   "metadata": {},
   "outputs": [],
   "source": [
    "History = pd.DataFrame(columns=['User_Logged_In'])"
   ]
  },
  {
   "cell_type": "code",
   "execution_count": 259,
   "metadata": {},
   "outputs": [
    {
     "name": "stdout",
     "output_type": "stream",
     "text": [
      "Inicio de sesión exitoso. Bienvenido user3\n"
     ]
    }
   ],
   "source": [
    "def Inicio_Sesion():\n",
    "    \n",
    "    global History \n",
    "    user = input('Username: ')\n",
    "    passw = int(input('Password: '))\n",
    "\n",
    "    while True:\n",
    "        x = df[(df['Username'] == user) & (df['Password'] == passw)] \n",
    "        \n",
    "        if not x.empty:\n",
    "            print('Inicio de sesión exitoso. Bienvenido', user)\n",
    "            History = History.append({'User_Logged_In' : user}, ignore_index=True)\n",
    "        \n",
    "        else:\n",
    "            print('Usuario o contraseña incorrecta. Intente nuevamente.')\n",
    "            \n",
    "        break\n",
    "    \n",
    "\n",
    "Inicio_Sesion()\n"
   ]
  },
  {
   "cell_type": "code",
   "execution_count": 260,
   "metadata": {},
   "outputs": [
    {
     "data": {
      "text/html": [
       "<div>\n",
       "<style scoped>\n",
       "    .dataframe tbody tr th:only-of-type {\n",
       "        vertical-align: middle;\n",
       "    }\n",
       "\n",
       "    .dataframe tbody tr th {\n",
       "        vertical-align: top;\n",
       "    }\n",
       "\n",
       "    .dataframe thead th {\n",
       "        text-align: right;\n",
       "    }\n",
       "</style>\n",
       "<table border=\"1\" class=\"dataframe\">\n",
       "  <thead>\n",
       "    <tr style=\"text-align: right;\">\n",
       "      <th></th>\n",
       "      <th>User_Logged_In</th>\n",
       "    </tr>\n",
       "  </thead>\n",
       "  <tbody>\n",
       "    <tr>\n",
       "      <th>0</th>\n",
       "      <td>user1</td>\n",
       "    </tr>\n",
       "    <tr>\n",
       "      <th>1</th>\n",
       "      <td>user3</td>\n",
       "    </tr>\n",
       "  </tbody>\n",
       "</table>\n",
       "</div>"
      ],
      "text/plain": [
       "  User_Logged_In\n",
       "0          user1\n",
       "1          user3"
      ]
     },
     "execution_count": 260,
     "metadata": {},
     "output_type": "execute_result"
    }
   ],
   "source": [
    "History"
   ]
  },
  {
   "cell_type": "markdown",
   "metadata": {},
   "source": [
    "### <font color ='Peachpuff'> <font face ='Century'> Calculations:"
   ]
  },
  {
   "cell_type": "code",
   "execution_count": 2,
   "metadata": {},
   "outputs": [],
   "source": [
    "registroOperaciones = pd.DataFrame(columns= ['Operacion_Realizada', 'Funcion',\t'Fecha', 'Hora'])"
   ]
  },
  {
   "cell_type": "code",
   "execution_count": 21,
   "metadata": {},
   "outputs": [
    {
     "data": {
      "image/png": "[encoded data removed]",
      "text/plain": [
       "<Figure size 432x288 with 1 Axes>"
      ]
     },
     "metadata": {
      "needs_background": "light"
     },
     "output_type": "display_data"
    }
   ],
   "source": [
    "import time\n",
    "\n",
    "def integrar():\n",
    "\n",
    "    funcion = input('Escriba la integral que quiere solucionar: ')\n",
    "    difer = input('Escriba la variable con respecto a la cual se integra: ')\n",
    "    limite_inf = input('Ingrese límite inferior: ')\n",
    "    limite_sup = input('Ingrese límite superior: ')\n",
    "\n",
    "    result = sp.integrate(funcion, (difer, limite_inf, limite_sup))\n",
    "\n",
    "    print('Función:', funcion, ', Diferencial:', difer, ', Límite Sup:', limite_inf, ', Límite Inf:', limite_sup)\n",
    "    print('Resultado: ', result)\n",
    "    \n",
    "    return(funcion)\n",
    "\n",
    "\n",
    "def derivar():\n",
    "\n",
    "    funcion = input('Escriba la función que quiere derivar: ')\n",
    "    deriv = input('Escriba la variable con respecto a la cual quiere derivar: ')\n",
    "\n",
    "    result = sp.diff(funcion, deriv)\n",
    "\n",
    "    print('Derivada de la función', funcion, ', respecto a:', deriv)\n",
    "    print('Resultado: ', result)\n",
    "    \n",
    "    return(funcion)\n",
    "    \n",
    "\n",
    "def graficar_funcion():\n",
    "\n",
    "    funcion = input('Escriba la función que quiere graficar en terminos de x: ')\n",
    "    inicio = float(input('Escriba el intervalo inferior: '))\n",
    "    fin = float(input('Escriba el intervalo superior: '))\n",
    "\n",
    "    x_vals = np.linspace(inicio, fin, 400)\n",
    "\n",
    "    x = sp.symbols('x')\n",
    "    try:\n",
    "        funcion = sp.sympify(funcion)\n",
    "    except sp.SympifyError:\n",
    "        print(\"Error: La función ingresada no es válida.\")\n",
    "        return\n",
    "\n",
    "    y_vals = np.array([funcion.evalf(subs={x: val}) for val in x_vals])\n",
    "\n",
    "    plt.plot(x_vals, y_vals, label=funcion, color='blue', linewidth=2)\n",
    "    plt.title('Gráfico de la función', fontname = 'Times New Roman', fontsize = '15')\n",
    "    plt.xlabel('x', fontname = 'Times New Roman')\n",
    "    plt.ylabel('y', fontname = 'Times New Roman')\n",
    "    plt.legend()\n",
    "    plt.grid(linestyle = '--', linewidth = 0.5)\n",
    "    plt.show()\n",
    "    \n",
    "    return(funcion)\n",
    "    \n",
    "\n",
    "# Entrada\n",
    "\n",
    "entrada = input('Qué desea hacer: integrar, derivar o graficar: ')\n",
    "\n",
    "if entrada == 'integrar':\n",
    "    \n",
    "    funcion = integrar()\n",
    "    \n",
    "elif entrada == 'derivar':\n",
    "    \n",
    "    funcion = derivar()\n",
    "\n",
    "elif entrada == 'graficar':\n",
    "    \n",
    "    funcion = graficar_funcion()\n",
    "    \n",
    "else:\n",
    "    raise ValueError('Entrada no válida. Ingrese las palabras \"integrar\", \"derivar\" o \"graficar\" de acuerdo con lo que desea realizar.')\n",
    "\n",
    "\n",
    "\n",
    "# Historial de actividad\n",
    "\n",
    "hora = time.strftime(\"%H:%M:%S\")\n",
    "fecha = time.strftime(\"%d/%m/%y\")\n",
    "\n",
    "registroOperaciones  = registroOperaciones.append({'Operacion_Realizada' : entrada, 'Funcion' : funcion, 'Fecha' : hora,\n",
    "                                                  'Hora' : fecha}, ignore_index=True)"
   ]
  },
  {
   "cell_type": "code",
   "execution_count": 22,
   "metadata": {},
   "outputs": [
    {
     "data": {
      "text/html": [
       "<div>\n",
       "<style scoped>\n",
       "    .dataframe tbody tr th:only-of-type {\n",
       "        vertical-align: middle;\n",
       "    }\n",
       "\n",
       "    .dataframe tbody tr th {\n",
       "        vertical-align: top;\n",
       "    }\n",
       "\n",
       "    .dataframe thead th {\n",
       "        text-align: right;\n",
       "    }\n",
       "</style>\n",
       "<table border=\"1\" class=\"dataframe\">\n",
       "  <thead>\n",
       "    <tr style=\"text-align: right;\">\n",
       "      <th></th>\n",
       "      <th>Operacion_Realizada</th>\n",
       "      <th>Funcion</th>\n",
       "      <th>Fecha</th>\n",
       "      <th>Hora</th>\n",
       "    </tr>\n",
       "  </thead>\n",
       "  <tbody>\n",
       "    <tr>\n",
       "      <th>0</th>\n",
       "      <td>integrar</td>\n",
       "      <td>x**2+x**3</td>\n",
       "      <td>15:55:42</td>\n",
       "      <td>23/09/23</td>\n",
       "    </tr>\n",
       "    <tr>\n",
       "      <th>1</th>\n",
       "      <td>graficar</td>\n",
       "      <td>x**2 + 1</td>\n",
       "      <td>15:56:52</td>\n",
       "      <td>23/09/23</td>\n",
       "    </tr>\n",
       "    <tr>\n",
       "      <th>2</th>\n",
       "      <td>derivar</td>\n",
       "      <td>sqrt(x+1)</td>\n",
       "      <td>16:05:06</td>\n",
       "      <td>23/09/23</td>\n",
       "    </tr>\n",
       "    <tr>\n",
       "      <th>3</th>\n",
       "      <td>graficar</td>\n",
       "      <td>None</td>\n",
       "      <td>16:09:38</td>\n",
       "      <td>23/09/23</td>\n",
       "    </tr>\n",
       "    <tr>\n",
       "      <th>4</th>\n",
       "      <td>graficar</td>\n",
       "      <td>sqrt(x**2 + 1)</td>\n",
       "      <td>16:10:37</td>\n",
       "      <td>23/09/23</td>\n",
       "    </tr>\n",
       "  </tbody>\n",
       "</table>\n",
       "</div>"
      ],
      "text/plain": [
       "  Operacion_Realizada         Funcion     Fecha      Hora\n",
       "0            integrar       x**2+x**3  15:55:42  23/09/23\n",
       "1            graficar        x**2 + 1  15:56:52  23/09/23\n",
       "2             derivar       sqrt(x+1)  16:05:06  23/09/23\n",
       "3            graficar            None  16:09:38  23/09/23\n",
       "4            graficar  sqrt(x**2 + 1)  16:10:37  23/09/23"
      ]
     },
     "execution_count": 22,
     "metadata": {},
     "output_type": "execute_result"
    }
   ],
   "source": [
    "registroOperaciones.head()"
   ]
  }
 ],
 "metadata": {
  "kernelspec": {
   "display_name": "base",
   "language": "python",
   "name": "python3"
  },
  "language_info": {
   "codemirror_mode": {
    "name": "ipython",
    "version": 3
   },
   "file_extension": ".py",
   "mimetype": "text/x-python",
   "name": "python",
   "nbconvert_exporter": "python",
   "pygments_lexer": "ipython3",
   "version": "3.8.8"
  },
  "orig_nbformat": 4
 },
 "nbformat": 4,
 "nbformat_minor": 2
}
